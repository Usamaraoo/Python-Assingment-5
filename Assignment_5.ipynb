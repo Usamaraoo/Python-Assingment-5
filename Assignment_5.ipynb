{
 "cells": [
  {
   "cell_type": "markdown",
   "metadata": {},
   "source": [
    "# Asignment 1"
   ]
  },
  {
   "cell_type": "code",
   "execution_count": 1,
   "metadata": {},
   "outputs": [
    {
     "data": {
      "text/plain": [
       "28.259999999999998"
      ]
     },
     "execution_count": 1,
     "metadata": {},
     "output_type": "execute_result"
    }
   ],
   "source": [
    "def fun (r,pi=3.14):\n",
    "    area = pi*r*r\n",
    "    return area\n",
    "\n",
    "fun(3)\n",
    "    "
   ]
  },
  {
   "cell_type": "markdown",
   "metadata": {},
   "source": [
    "# Asignment 2"
   ]
  },
  {
   "cell_type": "markdown",
   "metadata": {},
   "source": [
    "You have to create a function checkVal that accepts a list and finds a number in that list. You will not use built-in function."
   ]
  },
  {
   "cell_type": "code",
   "execution_count": 2,
   "metadata": {},
   "outputs": [],
   "source": [
    "def checkVal(item):\n",
    "    \n",
    "    data = [\"python\", \"r\", \"java\", \"pascal\", \"c\", \"javascript\", \"assembley\", \"html\", \"c++\"]\n",
    "   \n",
    "    return item in data\n",
    "            \n"
   ]
  },
  {
   "cell_type": "code",
   "execution_count": 3,
   "metadata": {},
   "outputs": [
    {
     "data": {
      "text/plain": [
       "True"
      ]
     },
     "execution_count": 3,
     "metadata": {},
     "output_type": "execute_result"
    }
   ],
   "source": [
    "checkVal ('python')"
   ]
  },
  {
   "cell_type": "code",
   "execution_count": 4,
   "metadata": {},
   "outputs": [
    {
     "data": {
      "text/plain": [
       "True"
      ]
     },
     "execution_count": 4,
     "metadata": {},
     "output_type": "execute_result"
    }
   ],
   "source": [
    "checkVal ('html')"
   ]
  },
  {
   "cell_type": "code",
   "execution_count": 5,
   "metadata": {},
   "outputs": [
    {
     "data": {
      "text/plain": [
       "True"
      ]
     },
     "execution_count": 5,
     "metadata": {},
     "output_type": "execute_result"
    }
   ],
   "source": [
    "checkVal('c')"
   ]
  },
  {
   "cell_type": "markdown",
   "metadata": {},
   "source": [
    "# Asignment 3"
   ]
  },
  {
   "cell_type": "markdown",
   "metadata": {},
   "source": [
    "You have given a data list. You have to write a function shiftItems which accepts 2 parameters ListName and n(No of times to shift)"
   ]
  },
  {
   "cell_type": "code",
   "execution_count": 40,
   "metadata": {},
   "outputs": [],
   "source": [
    "from collections import deque"
   ]
  },
  {
   "cell_type": "code",
   "execution_count": 38,
   "metadata": {},
   "outputs": [],
   "source": [
    "data = [\"python\", \"r\", \"java\", \"pascal\", \"c\", \"javascript\", \"assembley\", \"html\", \"c++\"]"
   ]
  },
  {
   "cell_type": "code",
   "execution_count": 48,
   "metadata": {},
   "outputs": [
    {
     "name": "stdout",
     "output_type": "stream",
     "text": [
      "deque(['python', 'r', 'java', 'pascal', 'c', 'javascript', 'assembley', 'html', 'c++'])\n",
      "deque(['assembley', 'html', 'c++', 'python', 'r', 'java', 'pascal', 'c', 'javascript'])\n"
     ]
    }
   ],
   "source": [
    "item = deque (data)\n",
    "\n",
    "print(item)\n",
    "item.rotate(3)\n",
    "print(item)\n"
   ]
  },
  {
   "cell_type": "markdown",
   "metadata": {},
   "source": [
    "# Assingmnet 4"
   ]
  },
  {
   "cell_type": "markdown",
   "metadata": {},
   "source": [
    "You have to write a while loop to get input from user for radius of circle. If user enters quit, break the loop, otherwise call calcArea function to get area of cricle from radius and print area of circle."
   ]
  },
  {
   "cell_type": "code",
   "execution_count": 1,
   "metadata": {},
   "outputs": [
    {
     "name": "stdout",
     "output_type": "stream",
     "text": [
      "Raduis of the cirle45\n",
      "6338.25\n",
      "do u want to quitquit\n"
     ]
    }
   ],
   "source": [
    "\n",
    "while True:\n",
    "    r = int(input('Raduis of the cirle'))\n",
    "    p = 3.14\n",
    "    print (3.13 * r* r )\n",
    "    a= input(\"do u want to quit\")\n",
    "   \n",
    "    if a =='quit':\n",
    "        break"
   ]
  },
  {
   "cell_type": "markdown",
   "metadata": {},
   "source": [
    "# Assignment 5"
   ]
  },
  {
   "cell_type": "markdown",
   "metadata": {},
   "source": [
    "Write function showDetails that takes five positional arguments and receives as dictionary with **kwargs and print in formatted way. Input data is as follows."
   ]
  },
  {
   "cell_type": "code",
   "execution_count": 35,
   "metadata": {},
   "outputs": [],
   "source": [
    "def showDetails(**kwrgs):\n",
    "    total_marks = 400       \n",
    "    highest_no , low_no= 0,0\n",
    "    high_subject , low_sub=None,None          \n",
    "    \n",
    "    #  getting the max and min throu build-in fun \n",
    "    highest_no=max(kwrgs['marks'].values())\n",
    "    low_no=min(kwrgs['marks'].values())\n",
    "    \n",
    "# running a loop to find the subjects against max and min value\n",
    "    for i,j in kwrgs['marks'].items():\n",
    "        if j == highest_no:\n",
    "            high_subject=i\n",
    "        if j == low_no:\n",
    "            low_sub=i\n",
    "\n",
    "#  getting the scored marks and the total and also getting their average and storing them in variables\n",
    "    scored = kwrgs['marks']['math']+ kwrgs['marks']['physics']+ kwrgs['marks']['biology']+ kwrgs['marks']['computer']\n",
    "    percentage=scored*100/total_marks\n",
    "    \n",
    "    print(f\"\"\" \n",
    "    Hello {kwrgs['name']}\n",
    "    Here is your result for class of {kwrgs['clas']}\n",
    "    Your score card is as follows.\n",
    "    ClassMarks:\n",
    "    Math : {kwrgs['marks']['math']}\n",
    "    Physics : {kwrgs['marks']['physics']}\n",
    "    Biology : {kwrgs['marks']['biology']}\n",
    "    Computer: {kwrgs['marks']['computer']}\n",
    "    Total marks are: {scored}\n",
    "    Percentage is as follows:{percentage} \n",
    "    Maximum marks are in {high_subject}\n",
    "    Minimum marks are in {low_sub}\n",
    "    You are promoted to next class.\n",
    "          \n",
    "          \"\"\")\n",
    "    "
   ]
  },
  {
   "cell_type": "code",
   "execution_count": 37,
   "metadata": {},
   "outputs": [
    {
     "name": "stdout",
     "output_type": "stream",
     "text": [
      " \n",
      "    Hello Ali\n",
      "    Here is your result for class of AI\n",
      "    Your score card is as follows.\n",
      "    ClassMarks:\n",
      "    Math : 45\n",
      "    Physics : 80\n",
      "    Biology : 60\n",
      "    Computer: 67\n",
      "    Total marks are: 252\n",
      "    Percentage is as follows:63.0 \n",
      "    Maximum marks are in physics\n",
      "    Minimum marks are in math\n",
      "    You are promoted to next class.\n",
      "          \n",
      "          \n"
     ]
    }
   ],
   "source": [
    "showDetails(name = \"Ali\", clas = \"AI\", \n",
    "            marks = {\"math\" : 45, \"physics\" : 80, \"biology\" : 60, \"computer\" : 67}, \n",
    "            date = \"1 Feb 2020\", nextClass = True)"
   ]
  }
 ],
 "metadata": {
  "kernelspec": {
   "display_name": "Python 3",
   "language": "python",
   "name": "python3"
  },
  "language_info": {
   "codemirror_mode": {
    "name": "ipython",
    "version": 3
   },
   "file_extension": ".py",
   "mimetype": "text/x-python",
   "name": "python",
   "nbconvert_exporter": "python",
   "pygments_lexer": "ipython3",
   "version": "3.7.4"
  }
 },
 "nbformat": 4,
 "nbformat_minor": 2
}
